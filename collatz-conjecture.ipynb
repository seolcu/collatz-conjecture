{
 "cells": [
  {
   "cell_type": "code",
   "execution_count": null,
   "metadata": {},
   "outputs": [],
   "source": [
    "startInt = int(input(\"검사 시작 정수:\"))\n",
    "endInt = int(input(\"검사 종료 정수:\"))"
   ]
  },
  {
   "cell_type": "code",
   "execution_count": null,
   "metadata": {},
   "outputs": [],
   "source": [
    "testIntList = list(range(startInt, endInt + 1))"
   ]
  },
  {
   "cell_type": "code",
   "execution_count": null,
   "metadata": {},
   "outputs": [],
   "source": [
    "def collatzFunc(inputInt):\n",
    "    currentNum = inputInt\n",
    "    collatzList = []\n",
    "    collatzList.append(currentNum)\n",
    "    while currentNum != 1:\n",
    "        if (currentNum % 2 == 1):\n",
    "            currentNum = currentNum * 3 + 1\n",
    "        elif (currentNum % 2 == 0):\n",
    "            currentNum = int(currentNum / 2)\n",
    "        else:\n",
    "            print(inputInt,\"에서 에러 발생\")\n",
    "        collatzList.append(currentNum)\n",
    "    return collatzList"
   ]
  },
  {
   "cell_type": "code",
   "execution_count": null,
   "metadata": {},
   "outputs": [],
   "source": [
    "def testCollatzList(testIntList):\n",
    "    for singleInt in testIntList:\n",
    "        singleCollatzList = collatzFunc(singleInt)\n",
    "        print(singleCollatzList)"
   ]
  },
  {
   "cell_type": "code",
   "execution_count": null,
   "metadata": {},
   "outputs": [],
   "source": [
    "testCollatzList(testIntList)"
   ]
  }
 ],
 "metadata": {
  "kernelspec": {
   "display_name": "Python 3.9.12 ('test')",
   "language": "python",
   "name": "python3"
  },
  "language_info": {
   "codemirror_mode": {
    "name": "ipython",
    "version": 3
   },
   "file_extension": ".py",
   "mimetype": "text/x-python",
   "name": "python",
   "nbconvert_exporter": "python",
   "pygments_lexer": "ipython3",
   "version": "3.9.12"
  },
  "orig_nbformat": 4,
  "vscode": {
   "interpreter": {
    "hash": "628c8426a6b0bc19ee4011ba67211cee0c858cb38744e0d16b1e851099d2220e"
   }
  }
 },
 "nbformat": 4,
 "nbformat_minor": 2
}
